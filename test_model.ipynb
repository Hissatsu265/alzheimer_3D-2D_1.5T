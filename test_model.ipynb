{
 "cells": [
  {
   "cell_type": "code",
   "execution_count": 7,
   "id": "88931425-92cc-48f8-b3aa-8e2fdf72a0e9",
   "metadata": {},
   "outputs": [
    {
     "name": "stdout",
     "output_type": "stream",
     "text": [
      "odict_keys(['module.model.conv1.weight', 'module.model.bn1.weight', 'module.model.bn1.bias', 'module.model.bn1.running_mean', 'module.model.bn1.running_var', 'module.model.bn1.num_batches_tracked', 'module.model.layer1.0.conv1.weight', 'module.model.layer1.0.bn1.weight', 'module.model.layer1.0.bn1.bias', 'module.model.layer1.0.bn1.running_mean', 'module.model.layer1.0.bn1.running_var', 'module.model.layer1.0.bn1.num_batches_tracked', 'module.model.layer1.0.conv2.weight', 'module.model.layer1.0.bn2.weight', 'module.model.layer1.0.bn2.bias', 'module.model.layer1.0.bn2.running_mean', 'module.model.layer1.0.bn2.running_var', 'module.model.layer1.0.bn2.num_batches_tracked', 'module.model.layer1.1.conv1.weight', 'module.model.layer1.1.bn1.weight', 'module.model.layer1.1.bn1.bias', 'module.model.layer1.1.bn1.running_mean', 'module.model.layer1.1.bn1.running_var', 'module.model.layer1.1.bn1.num_batches_tracked', 'module.model.layer1.1.conv2.weight', 'module.model.layer1.1.bn2.weight', 'module.model.layer1.1.bn2.bias', 'module.model.layer1.1.bn2.running_mean', 'module.model.layer1.1.bn2.running_var', 'module.model.layer1.1.bn2.num_batches_tracked', 'module.model.layer2.0.conv1.weight', 'module.model.layer2.0.bn1.weight', 'module.model.layer2.0.bn1.bias', 'module.model.layer2.0.bn1.running_mean', 'module.model.layer2.0.bn1.running_var', 'module.model.layer2.0.bn1.num_batches_tracked', 'module.model.layer2.0.conv2.weight', 'module.model.layer2.0.bn2.weight', 'module.model.layer2.0.bn2.bias', 'module.model.layer2.0.bn2.running_mean', 'module.model.layer2.0.bn2.running_var', 'module.model.layer2.0.bn2.num_batches_tracked', 'module.model.layer2.0.downsample.0.weight', 'module.model.layer2.0.downsample.1.weight', 'module.model.layer2.0.downsample.1.bias', 'module.model.layer2.0.downsample.1.running_mean', 'module.model.layer2.0.downsample.1.running_var', 'module.model.layer2.0.downsample.1.num_batches_tracked', 'module.model.layer2.1.conv1.weight', 'module.model.layer2.1.bn1.weight', 'module.model.layer2.1.bn1.bias', 'module.model.layer2.1.bn1.running_mean', 'module.model.layer2.1.bn1.running_var', 'module.model.layer2.1.bn1.num_batches_tracked', 'module.model.layer2.1.conv2.weight', 'module.model.layer2.1.bn2.weight', 'module.model.layer2.1.bn2.bias', 'module.model.layer2.1.bn2.running_mean', 'module.model.layer2.1.bn2.running_var', 'module.model.layer2.1.bn2.num_batches_tracked', 'module.model.layer3.0.conv1.weight', 'module.model.layer3.0.bn1.weight', 'module.model.layer3.0.bn1.bias', 'module.model.layer3.0.bn1.running_mean', 'module.model.layer3.0.bn1.running_var', 'module.model.layer3.0.bn1.num_batches_tracked', 'module.model.layer3.0.conv2.weight', 'module.model.layer3.0.bn2.weight', 'module.model.layer3.0.bn2.bias', 'module.model.layer3.0.bn2.running_mean', 'module.model.layer3.0.bn2.running_var', 'module.model.layer3.0.bn2.num_batches_tracked', 'module.model.layer3.0.downsample.0.weight', 'module.model.layer3.0.downsample.1.weight', 'module.model.layer3.0.downsample.1.bias', 'module.model.layer3.0.downsample.1.running_mean', 'module.model.layer3.0.downsample.1.running_var', 'module.model.layer3.0.downsample.1.num_batches_tracked', 'module.model.layer3.1.conv1.weight', 'module.model.layer3.1.bn1.weight', 'module.model.layer3.1.bn1.bias', 'module.model.layer3.1.bn1.running_mean', 'module.model.layer3.1.bn1.running_var', 'module.model.layer3.1.bn1.num_batches_tracked', 'module.model.layer3.1.conv2.weight', 'module.model.layer3.1.bn2.weight', 'module.model.layer3.1.bn2.bias', 'module.model.layer3.1.bn2.running_mean', 'module.model.layer3.1.bn2.running_var', 'module.model.layer3.1.bn2.num_batches_tracked', 'module.model.layer4.0.conv1.weight', 'module.model.layer4.0.bn1.weight', 'module.model.layer4.0.bn1.bias', 'module.model.layer4.0.bn1.running_mean', 'module.model.layer4.0.bn1.running_var', 'module.model.layer4.0.bn1.num_batches_tracked', 'module.model.layer4.0.conv2.weight', 'module.model.layer4.0.bn2.weight', 'module.model.layer4.0.bn2.bias', 'module.model.layer4.0.bn2.running_mean', 'module.model.layer4.0.bn2.running_var', 'module.model.layer4.0.bn2.num_batches_tracked', 'module.model.layer4.0.downsample.0.weight', 'module.model.layer4.0.downsample.1.weight', 'module.model.layer4.0.downsample.1.bias', 'module.model.layer4.0.downsample.1.running_mean', 'module.model.layer4.0.downsample.1.running_var', 'module.model.layer4.0.downsample.1.num_batches_tracked', 'module.model.layer4.1.conv1.weight', 'module.model.layer4.1.bn1.weight', 'module.model.layer4.1.bn1.bias', 'module.model.layer4.1.bn1.running_mean', 'module.model.layer4.1.bn1.running_var', 'module.model.layer4.1.bn1.num_batches_tracked', 'module.model.layer4.1.conv2.weight', 'module.model.layer4.1.bn2.weight', 'module.model.layer4.1.bn2.bias', 'module.model.layer4.1.bn2.running_mean', 'module.model.layer4.1.bn2.running_var', 'module.model.layer4.1.bn2.num_batches_tracked', 'module.model.fc.weight', 'module.model.fc.bias'])\n"
     ]
    }
   ],
   "source": [
    "state_dict = torch.load('/home/jupyter-iec_iot13_toanlm/src/src_data4/alzheimer_model_data4.pth')\n",
    "print(state_dict.keys())"
   ]
  },
  {
   "cell_type": "code",
   "execution_count": 29,
   "id": "ebfc24a1-155f-4e95-886c-7fc3f923db1b",
   "metadata": {},
   "outputs": [
    {
     "name": "stderr",
     "output_type": "stream",
     "text": [
      "/opt/tljh/user/lib/python3.10/site-packages/torchvision/models/_utils.py:208: UserWarning: The parameter 'pretrained' is deprecated since 0.13 and may be removed in the future, please use 'weights' instead.\n",
      "  warnings.warn(\n",
      "/opt/tljh/user/lib/python3.10/site-packages/torchvision/models/_utils.py:223: UserWarning: Arguments other than a weight enum or `None` for 'weights' are deprecated since 0.13 and may be removed in the future. The current behavior is equivalent to passing `weights=ResNet18_Weights.IMAGENET1K_V1`. You can also use `weights=ResNet18_Weights.DEFAULT` to get the most up-to-date weights.\n",
      "  warnings.warn(msg)\n"
     ]
    },
    {
     "data": {
      "text/plain": [
       "AlzheimerNet(\n",
       "  (model): ResNet(\n",
       "    (conv1): Conv2d(3, 64, kernel_size=(7, 7), stride=(2, 2), padding=(3, 3), bias=False)\n",
       "    (bn1): BatchNorm2d(64, eps=1e-05, momentum=0.1, affine=True, track_running_stats=True)\n",
       "    (relu): ReLU(inplace=True)\n",
       "    (maxpool): MaxPool2d(kernel_size=3, stride=2, padding=1, dilation=1, ceil_mode=False)\n",
       "    (layer1): Sequential(\n",
       "      (0): BasicBlock(\n",
       "        (conv1): Conv2d(64, 64, kernel_size=(3, 3), stride=(1, 1), padding=(1, 1), bias=False)\n",
       "        (bn1): BatchNorm2d(64, eps=1e-05, momentum=0.1, affine=True, track_running_stats=True)\n",
       "        (relu): ReLU(inplace=True)\n",
       "        (conv2): Conv2d(64, 64, kernel_size=(3, 3), stride=(1, 1), padding=(1, 1), bias=False)\n",
       "        (bn2): BatchNorm2d(64, eps=1e-05, momentum=0.1, affine=True, track_running_stats=True)\n",
       "      )\n",
       "      (1): BasicBlock(\n",
       "        (conv1): Conv2d(64, 64, kernel_size=(3, 3), stride=(1, 1), padding=(1, 1), bias=False)\n",
       "        (bn1): BatchNorm2d(64, eps=1e-05, momentum=0.1, affine=True, track_running_stats=True)\n",
       "        (relu): ReLU(inplace=True)\n",
       "        (conv2): Conv2d(64, 64, kernel_size=(3, 3), stride=(1, 1), padding=(1, 1), bias=False)\n",
       "        (bn2): BatchNorm2d(64, eps=1e-05, momentum=0.1, affine=True, track_running_stats=True)\n",
       "      )\n",
       "    )\n",
       "    (layer2): Sequential(\n",
       "      (0): BasicBlock(\n",
       "        (conv1): Conv2d(64, 128, kernel_size=(3, 3), stride=(2, 2), padding=(1, 1), bias=False)\n",
       "        (bn1): BatchNorm2d(128, eps=1e-05, momentum=0.1, affine=True, track_running_stats=True)\n",
       "        (relu): ReLU(inplace=True)\n",
       "        (conv2): Conv2d(128, 128, kernel_size=(3, 3), stride=(1, 1), padding=(1, 1), bias=False)\n",
       "        (bn2): BatchNorm2d(128, eps=1e-05, momentum=0.1, affine=True, track_running_stats=True)\n",
       "        (downsample): Sequential(\n",
       "          (0): Conv2d(64, 128, kernel_size=(1, 1), stride=(2, 2), bias=False)\n",
       "          (1): BatchNorm2d(128, eps=1e-05, momentum=0.1, affine=True, track_running_stats=True)\n",
       "        )\n",
       "      )\n",
       "      (1): BasicBlock(\n",
       "        (conv1): Conv2d(128, 128, kernel_size=(3, 3), stride=(1, 1), padding=(1, 1), bias=False)\n",
       "        (bn1): BatchNorm2d(128, eps=1e-05, momentum=0.1, affine=True, track_running_stats=True)\n",
       "        (relu): ReLU(inplace=True)\n",
       "        (conv2): Conv2d(128, 128, kernel_size=(3, 3), stride=(1, 1), padding=(1, 1), bias=False)\n",
       "        (bn2): BatchNorm2d(128, eps=1e-05, momentum=0.1, affine=True, track_running_stats=True)\n",
       "      )\n",
       "    )\n",
       "    (layer3): Sequential(\n",
       "      (0): BasicBlock(\n",
       "        (conv1): Conv2d(128, 256, kernel_size=(3, 3), stride=(2, 2), padding=(1, 1), bias=False)\n",
       "        (bn1): BatchNorm2d(256, eps=1e-05, momentum=0.1, affine=True, track_running_stats=True)\n",
       "        (relu): ReLU(inplace=True)\n",
       "        (conv2): Conv2d(256, 256, kernel_size=(3, 3), stride=(1, 1), padding=(1, 1), bias=False)\n",
       "        (bn2): BatchNorm2d(256, eps=1e-05, momentum=0.1, affine=True, track_running_stats=True)\n",
       "        (downsample): Sequential(\n",
       "          (0): Conv2d(128, 256, kernel_size=(1, 1), stride=(2, 2), bias=False)\n",
       "          (1): BatchNorm2d(256, eps=1e-05, momentum=0.1, affine=True, track_running_stats=True)\n",
       "        )\n",
       "      )\n",
       "      (1): BasicBlock(\n",
       "        (conv1): Conv2d(256, 256, kernel_size=(3, 3), stride=(1, 1), padding=(1, 1), bias=False)\n",
       "        (bn1): BatchNorm2d(256, eps=1e-05, momentum=0.1, affine=True, track_running_stats=True)\n",
       "        (relu): ReLU(inplace=True)\n",
       "        (conv2): Conv2d(256, 256, kernel_size=(3, 3), stride=(1, 1), padding=(1, 1), bias=False)\n",
       "        (bn2): BatchNorm2d(256, eps=1e-05, momentum=0.1, affine=True, track_running_stats=True)\n",
       "      )\n",
       "    )\n",
       "    (layer4): Sequential(\n",
       "      (0): BasicBlock(\n",
       "        (conv1): Conv2d(256, 512, kernel_size=(3, 3), stride=(2, 2), padding=(1, 1), bias=False)\n",
       "        (bn1): BatchNorm2d(512, eps=1e-05, momentum=0.1, affine=True, track_running_stats=True)\n",
       "        (relu): ReLU(inplace=True)\n",
       "        (conv2): Conv2d(512, 512, kernel_size=(3, 3), stride=(1, 1), padding=(1, 1), bias=False)\n",
       "        (bn2): BatchNorm2d(512, eps=1e-05, momentum=0.1, affine=True, track_running_stats=True)\n",
       "        (downsample): Sequential(\n",
       "          (0): Conv2d(256, 512, kernel_size=(1, 1), stride=(2, 2), bias=False)\n",
       "          (1): BatchNorm2d(512, eps=1e-05, momentum=0.1, affine=True, track_running_stats=True)\n",
       "        )\n",
       "      )\n",
       "      (1): BasicBlock(\n",
       "        (conv1): Conv2d(512, 512, kernel_size=(3, 3), stride=(1, 1), padding=(1, 1), bias=False)\n",
       "        (bn1): BatchNorm2d(512, eps=1e-05, momentum=0.1, affine=True, track_running_stats=True)\n",
       "        (relu): ReLU(inplace=True)\n",
       "        (conv2): Conv2d(512, 512, kernel_size=(3, 3), stride=(1, 1), padding=(1, 1), bias=False)\n",
       "        (bn2): BatchNorm2d(512, eps=1e-05, momentum=0.1, affine=True, track_running_stats=True)\n",
       "      )\n",
       "    )\n",
       "    (avgpool): AdaptiveAvgPool2d(output_size=(1, 1))\n",
       "    (fc): Linear(in_features=512, out_features=3, bias=True)\n",
       "  )\n",
       ")"
      ]
     },
     "execution_count": 29,
     "metadata": {},
     "output_type": "execute_result"
    }
   ],
   "source": [
    "import torch\n",
    "import torch.nn as nn\n",
    "from torchvision.models import resnet18\n",
    "\n",
    "class AlzheimerNet(nn.Module):\n",
    "    def __init__(self, num_classes=3):  # 3 classes: AD, CN, MCI\n",
    "        super(AlzheimerNet, self).__init__()\n",
    "        self.model = resnet18(pretrained=True)\n",
    "        self.model.fc = nn.Linear(self.model.fc.in_features, num_classes)\n",
    "\n",
    "    def forward(self, x):\n",
    "        return self.model(x)\n",
    "\n",
    "# Load the trained model\n",
    "model = AlzheimerNet(num_classes=3)\n",
    "# Load the saved state_dict\n",
    "state_dict = torch.load('/home/jupyter-iec_iot13_toanlm/src/src_data4/alzheimer_model_data4.pth')\n",
    "\n",
    "new_state_dict = {}\n",
    "for k, v in state_dict.items():\n",
    "    name = k.replace('module.', '')  # remove `module.` prefix\n",
    "    new_state_dict[name] = v\n",
    "\n",
    "# Load the modified state_dict\n",
    "model = AlzheimerNet(num_classes=3)\n",
    "model.load_state_dict(new_state_dict)\n",
    "model.eval()  # Set the model to evaluation mode\n"
   ]
  },
  {
   "cell_type": "code",
   "execution_count": 41,
   "id": "97d1b075-4afb-47b0-9b1b-3d76bd1dd2f0",
   "metadata": {},
   "outputs": [
    {
     "name": "stdout",
     "output_type": "stream",
     "text": [
      "478\n"
     ]
    }
   ],
   "source": [
    "from PIL import Image\n",
    "import os\n",
    "import sys\n",
    "from torch.utils.data import Dataset, DataLoader, Subset\n",
    "import torch\n",
    "from torchvision import datasets, transforms\n",
    "from torch.utils.data import random_split\n",
    "sys.path.append('/home/jupyter-iec_iot13_toanlm/')\n",
    "from src.src_data4.dataloadder import MRIDataset\n",
    "from sklearn.model_selection import train_test_split\n",
    "\n",
    "# ============================================================\n",
    "dataset = MRIDataset(root_dir=\"/home/jupyter-iec_iot13_toanlm/data/data4/data_2D\", transform=transform)\n",
    "\n",
    "train_indices, test_indices = train_test_split(list(range(len(dataset))), test_size=0.5, stratify=dataset.labels)\n",
    "\n",
    "train_dataset = Subset(dataset, train_indices)\n",
    "test_dataset = Subset(dataset, test_indices)\n",
    "\n",
    "train_loader = DataLoader(train_dataset, batch_size=64, shuffle=True, num_workers=4)\n",
    "test_loader = DataLoader(test_dataset, batch_size=64, shuffle=True, num_workers=4)\n",
    "\n",
    "# ==============================================================\n",
    "# data_dir='/home/jupyter-iec_iot13_toanlm/data/data6'\n",
    "# batch_size=32 \n",
    "# train_size=0.8\n",
    "# data_transforms = transforms.Compose([\n",
    "#         transforms.Resize((224, 224)),\n",
    "#         transforms.ToTensor(),\n",
    "#         transforms.Normalize([0.485, 0.456, 0.406], [0.229, 0.224, 0.225])\n",
    "# ])\n",
    "    \n",
    "#     # Load toàn bộ dataset\n",
    "# image_datasets = datasets.ImageFolder(data_dir, transform=data_transforms)\n",
    "\n",
    "# # Chia thành train và test\n",
    "# train_size = int(train_size * len(image_datasets))\n",
    "# test_size = len(image_datasets) - train_size\n",
    "# train_dataset, test_dataset = random_split(image_datasets, [train_size, test_size])\n",
    "\n",
    "# # Tạo DataLoader cho train và test\n",
    "# train_loader = torch.utils.data.DataLoader(train_dataset, batch_size=batch_size, shuffle=True)\n",
    "# test_loader = torch.utils.data.DataLoader(test_dataset, batch_size=batch_size, shuffle=True)\n",
    "\n",
    "print(len(test_loader))\n"
   ]
  },
  {
   "cell_type": "code",
   "execution_count": 42,
   "id": "ce4d6b45-0a28-4d18-80a9-097937be7f4e",
   "metadata": {},
   "outputs": [],
   "source": [
    "import torch\n",
    "\n",
    "device = torch.device('cuda:0' if torch.cuda.is_available() else 'cpu')\n",
    "torch.cuda.set_device(0)\n",
    "model.to(device)\n",
    "# device = torch.device('cuda' if torch.cuda.is_available() else 'cpu')\n",
    "# model.to(device)\n",
    "\n",
    "# Đánh giá model trên bộ dữ liệu test\n",
    "model.eval()  # Chuyển mô hình sang chế độ đánh giá\n",
    "\n",
    "all_predictions = []\n",
    "all_image_paths = []\n",
    "\n",
    "with torch.no_grad():  # Không cần tính toán gradient khi test\n",
    "    for images, img_paths in test_loader:\n",
    "        images = images.to(device)\n",
    "        outputs = model(images)\n",
    "        _, predicted = torch.max(outputs, 1)\n",
    "        \n",
    "        all_predictions.extend(predicted.cpu().numpy())  # Lưu kết quả dự đoán\n",
    "        all_image_paths.extend(img_paths)  # Lưu đường dẫn của các ảnh\n",
    "\n",
    "# Hiển thị kết quả dự đoán\n",
    "# for img_path, prediction in zip(all_image_paths, all_predictions):\n",
    "#     print(f\"Image: {img_path}, Predicted class: {prediction}\")\n"
   ]
  },
  {
   "cell_type": "code",
   "execution_count": 43,
   "id": "9294c7b2-6dff-4907-b6ed-fc412a4430ff",
   "metadata": {},
   "outputs": [
    {
     "name": "stdout",
     "output_type": "stream",
     "text": [
      "Accuracy: 0.9543\n",
      "F1 Score: 0.9543\n",
      "Precision: 0.9545\n",
      "Recall: 0.9543\n"
     ]
    }
   ],
   "source": [
    "from sklearn.metrics import accuracy_score, f1_score, precision_score, recall_score\n",
    "# all_predictions \n",
    "# all_image_paths \n",
    "\n",
    "accuracy = accuracy_score(all_image_paths , all_predictions)\n",
    "f1 = f1_score(all_image_paths , all_predictions, average='weighted')\n",
    "precision = precision_score(all_image_paths , all_predictions, average='weighted')\n",
    "recall = recall_score(all_image_paths , all_predictions, average='weighted')\n",
    "\n",
    "print(f\"Accuracy: {accuracy:.4f}\")\n",
    "print(f\"F1 Score: {f1:.4f}\")\n",
    "print(f\"Precision: {precision:.4f}\")\n",
    "print(f\"Recall: {recall:.4f}\")\n"
   ]
  },
  {
   "cell_type": "code",
   "execution_count": null,
   "id": "fdd20384-3572-4f41-9e78-70201ee32eb7",
   "metadata": {},
   "outputs": [],
   "source": []
  }
 ],
 "metadata": {
  "kernelspec": {
   "display_name": "Python 3 (ipykernel)",
   "language": "python",
   "name": "python3"
  },
  "language_info": {
   "codemirror_mode": {
    "name": "ipython",
    "version": 3
   },
   "file_extension": ".py",
   "mimetype": "text/x-python",
   "name": "python",
   "nbconvert_exporter": "python",
   "pygments_lexer": "ipython3",
   "version": "3.10.14"
  }
 },
 "nbformat": 4,
 "nbformat_minor": 5
}
